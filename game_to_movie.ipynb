{
 "cells": [
  {
   "cell_type": "markdown",
   "metadata": {},
   "source": [
    "# Game to Movie Video Conversion"
   ]
  },
  {
   "cell_type": "markdown",
   "metadata": {},
   "source": [
    "## Main Imports"
   ]
  },
  {
   "cell_type": "code",
   "execution_count": 38,
   "metadata": {},
   "outputs": [],
   "source": [
    "import natsort\n",
    "import cv2\n",
    "import random\n",
    "from os import listdir"
   ]
  },
  {
   "cell_type": "markdown",
   "metadata": {},
   "source": [
    "## Preprocess the video data\n",
    "### Function to read frames from files"
   ]
  },
  {
   "cell_type": "code",
   "execution_count": 26,
   "metadata": {},
   "outputs": [],
   "source": [
    "def read_frames(video_path, save_path, problem_frames, start_frame, end_frame, frame_skip, counter):\n",
    "    \n",
    "    # initialise frame capturing\n",
    "    vidcap = cv2.VideoCapture(video_path)\n",
    "    vidcap.set(1, start_frame)\n",
    "    success, image = vidcap.read()\n",
    "    frame_number = start_frame\n",
    "    \n",
    "    while success and frame_number < end_frame:\n",
    "\n",
    "        # save frames as images, capturing every frame_skip frames\n",
    "        cv2.imwrite(save_path + '%d.jpg' % counter, image)\n",
    "        frame_number += frame_skip\n",
    "        counter += 1\n",
    "        \n",
    "        if frame_number in problem_frames:\n",
    "            original_frame_number = frame_number\n",
    "            random_frame = random.randint(start_frame, end_frame)\n",
    "            vidcap.set(1, random_frame)\n",
    "            frame_number = original_frame_number\n",
    "        else:\n",
    "            vidcap.set(1, frame_number)\n",
    "        success, image = vidcap.read()"
   ]
  },
  {
   "cell_type": "markdown",
   "metadata": {},
   "source": [
    "### Initialise file paths"
   ]
  },
  {
   "cell_type": "code",
   "execution_count": 23,
   "metadata": {},
   "outputs": [],
   "source": [
    "game_load_path = 'data/game/MafiaVideogame.mp4'\n",
    "game_save_path = 'data/game/frames/'\n",
    "game_problem_frames = [11985, 22485, 23610, 34485, 49485, 49860, 65985, 80235, 89235, 103485, 103860, 116235, 138360, 147735,\n",
    "                       154860, 166860, 180360, 182235, 191985, 202485, 221610, 229110]\n",
    "\n",
    "movies_folder = 'data/movie/'\n",
    "movie_save_path = 'data/movie/frames/'\n",
    "\n",
    "# data holding start frame, end frame, frame skip\n",
    "movie_data = {\n",
    "    \"TheGodfather.mp4\": (204, 12180, 60, [1104, 1164, 5604]),\n",
    "    \"TheIrishman.mp4\": (175, 23175, 115, [12710]),\n",
    "    \"TheSopranos.mp4\": (80, 51280, 256, [])\n",
    "}"
   ]
  },
  {
   "cell_type": "markdown",
   "metadata": {},
   "source": [
    "### Read frames from game file"
   ]
  },
  {
   "cell_type": "code",
   "execution_count": 24,
   "metadata": {},
   "outputs": [],
   "source": [
    "read_frames(game_load_path, game_save_path, game_problem_frames, 7110, 232110, 375, counter=1)"
   ]
  },
  {
   "cell_type": "markdown",
   "metadata": {},
   "source": [
    "### Read frames from movie files"
   ]
  },
  {
   "cell_type": "code",
   "execution_count": 27,
   "metadata": {},
   "outputs": [],
   "source": [
    "counter = 1\n",
    "for movie_name, frame_data in movie_data.items():\n",
    "    \n",
    "    movie_load_path = movies_folder + movie_name\n",
    "    start_frame, end_frame, frame_skip, movie_problem_frames = frame_data[0], frame_data[1], frame_data[2], frame_data[3]\n",
    "    read_frames(movie_load_path, movie_save_path, movie_problem_frames, start_frame, end_frame, frame_skip, counter)\n",
    "    counter += 200"
   ]
  },
  {
   "cell_type": "code",
   "execution_count": null,
   "metadata": {},
   "outputs": [],
   "source": [
    "    "
   ]
  }
 ],
 "metadata": {
  "kernelspec": {
   "display_name": "Python 3",
   "language": "python",
   "name": "python3"
  },
  "language_info": {
   "codemirror_mode": {
    "name": "ipython",
    "version": 3
   },
   "file_extension": ".py",
   "mimetype": "text/x-python",
   "name": "python",
   "nbconvert_exporter": "python",
   "pygments_lexer": "ipython3",
   "version": "3.7.6"
  }
 },
 "nbformat": 4,
 "nbformat_minor": 4
}
