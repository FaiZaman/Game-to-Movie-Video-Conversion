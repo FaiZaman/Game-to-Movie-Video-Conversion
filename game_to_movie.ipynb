{
 "cells": [
  {
   "cell_type": "markdown",
   "metadata": {},
   "source": [
    "# Game to Movie Image Conversion"
   ]
  },
  {
   "cell_type": "markdown",
   "metadata": {},
   "source": [
    "## Main Imports"
   ]
  },
  {
   "cell_type": "code",
   "execution_count": 8,
   "metadata": {},
   "outputs": [],
   "source": [
    "import cv2"
   ]
  },
  {
   "cell_type": "markdown",
   "metadata": {},
   "source": [
    "## Preprocess the video data\n",
    "### Function to read frames from files"
   ]
  },
  {
   "cell_type": "code",
   "execution_count": 9,
   "metadata": {},
   "outputs": [],
   "source": [
    "def read_frames(video_path, save_path, starting_frame_number, ending_frame_number, frame_skip):\n",
    "\n",
    "    # initialise frame capturing\n",
    "    vidcap = cv2.VideoCapture(video_path)\n",
    "    vidcap.set(1, starting_frame_number)\n",
    "    success, image = vidcap.read()\n",
    "    frame_number = starting_frame_number\n",
    "\n",
    "    while success and frame_number < ending_frame_number:\n",
    "\n",
    "        # save frames as images, capturing every frame_skip frames\n",
    "        cv2.imwrite(save_path + 'frame_%d.jpg' % frame_number, image)\n",
    "        frame_number += frame_skip\n",
    "\n",
    "        vidcap.set(1, frame_number)\n",
    "        success, image = vidcap.read()"
   ]
  },
  {
   "cell_type": "markdown",
   "metadata": {},
   "source": [
    "### Initialise file paths"
   ]
  },
  {
   "cell_type": "code",
   "execution_count": 12,
   "metadata": {},
   "outputs": [],
   "source": [
    "game_load_path = 'data/game/MafiaVideogame.mp4'\n",
    "game_save_path = 'data/game/frames/'\n",
    "\n",
    "movies_folder = 'data/movie/'\n",
    "movie_save_path = 'data/movie/frames'\n",
    "movie_names = ['TheGodfather.mp4', 'TheIrishman.mp4', 'TheSopranos.mp4']"
   ]
  },
  {
   "cell_type": "markdown",
   "metadata": {},
   "source": [
    "### Read frames from game file"
   ]
  },
  {
   "cell_type": "code",
   "execution_count": 13,
   "metadata": {},
   "outputs": [],
   "source": [
    "read_frames(game_load_path, game_save_path, 7110, 232110, 375)"
   ]
  },
  {
   "cell_type": "markdown",
   "metadata": {},
   "source": [
    "### Read frames from movie files"
   ]
  },
  {
   "cell_type": "code",
   "execution_count": null,
   "metadata": {},
   "outputs": [],
   "source": [
    "for movie in movie_names:\n",
    "    movie_load_path = movies_folder + movie_name\n",
    "    read_frames(movie_load_path, movie_save_path, )"
   ]
  }
 ],
 "metadata": {
  "kernelspec": {
   "display_name": "Python 3",
   "language": "python",
   "name": "python3"
  },
  "language_info": {
   "codemirror_mode": {
    "name": "ipython",
    "version": 3
   },
   "file_extension": ".py",
   "mimetype": "text/x-python",
   "name": "python",
   "nbconvert_exporter": "python",
   "pygments_lexer": "ipython3",
   "version": "3.7.6"
  }
 },
 "nbformat": 4,
 "nbformat_minor": 4
}
