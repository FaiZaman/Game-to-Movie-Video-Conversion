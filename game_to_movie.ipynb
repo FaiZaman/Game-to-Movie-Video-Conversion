{
 "cells": [
  {
   "cell_type": "markdown",
   "metadata": {},
   "source": [
    "# Game to Movie Video Conversion"
   ]
  },
  {
   "cell_type": "markdown",
   "metadata": {},
   "source": [
    "## Main Imports"
   ]
  },
  {
   "cell_type": "code",
   "execution_count": 36,
   "metadata": {},
   "outputs": [],
   "source": [
    "import cv2"
   ]
  },
  {
   "cell_type": "markdown",
   "metadata": {},
   "source": [
    "## Preprocess the video data\n",
    "### Function to read frames from files"
   ]
  },
  {
   "cell_type": "code",
   "execution_count": 37,
   "metadata": {},
   "outputs": [],
   "source": [
    "def read_frames(video_path, save_path, file_name, start_frame, end_frame, frame_skip):\n",
    "\n",
    "    # initialise frame capturing\n",
    "    vidcap = cv2.VideoCapture(video_path)\n",
    "    vidcap.set(1, start_frame)\n",
    "    success, image = vidcap.read()\n",
    "    frame_number = start_frame\n",
    "\n",
    "    while success and frame_number < end_frame:\n",
    "\n",
    "        # save frames as images, capturing every frame_skip frames\n",
    "        cv2.imwrite(save_path + file_name + '_frame_%d.jpg' % frame_number, image)\n",
    "        frame_number += frame_skip\n",
    "\n",
    "        vidcap.set(1, frame_number)\n",
    "        success, image = vidcap.read()"
   ]
  },
  {
   "cell_type": "markdown",
   "metadata": {},
   "source": [
    "### Initialise file paths"
   ]
  },
  {
   "cell_type": "code",
   "execution_count": 38,
   "metadata": {},
   "outputs": [],
   "source": [
    "game_load_path = 'data/game/MafiaVideogame.mp4'\n",
    "game_save_path = 'data/game/frames/'\n",
    "game_name = 'Mafia'\n",
    "\n",
    "movies_folder = 'data/movie/'\n",
    "movie_save_path = 'data/movie/frames/'\n",
    "\n",
    "# data holding start frame, end frame, frame skip\n",
    "movie_data = {\n",
    "    \"TheGodfather.mp4\": (204, 12180, 60),\n",
    "    \"TheIrishman.mp4\": (175, 23175, 115),\n",
    "    \"TheSopranos.mp4\": (80, 51280, 256)\n",
    "}"
   ]
  },
  {
   "cell_type": "markdown",
   "metadata": {},
   "source": [
    "### Read frames from game file"
   ]
  },
  {
   "cell_type": "code",
   "execution_count": 39,
   "metadata": {},
   "outputs": [],
   "source": [
    "read_frames(game_load_path, game_save_path, game_name, 7110, 232110, 375)"
   ]
  },
  {
   "cell_type": "markdown",
   "metadata": {},
   "source": [
    "### Read frames from movie files"
   ]
  },
  {
   "cell_type": "code",
   "execution_count": 40,
   "metadata": {},
   "outputs": [],
   "source": [
    "for movie_name, frame_data in movie_data.items():\n",
    "    \n",
    "    movie_load_path = movies_folder + movie_name\n",
    "    start_frame, end_frame, frame_skip = frame_data[0], frame_data[1], frame_data[2]\n",
    "    read_frames(movie_load_path, movie_save_path, movie_name[:-4], start_frame, end_frame, frame_skip)"
   ]
  },
  {
   "cell_type": "code",
   "execution_count": null,
   "metadata": {},
   "outputs": [],
   "source": []
  }
 ],
 "metadata": {
  "kernelspec": {
   "display_name": "Python 3",
   "language": "python",
   "name": "python3"
  },
  "language_info": {
   "codemirror_mode": {
    "name": "ipython",
    "version": 3
   },
   "file_extension": ".py",
   "mimetype": "text/x-python",
   "name": "python",
   "nbconvert_exporter": "python",
   "pygments_lexer": "ipython3",
   "version": "3.7.6"
  }
 },
 "nbformat": 4,
 "nbformat_minor": 4
}
