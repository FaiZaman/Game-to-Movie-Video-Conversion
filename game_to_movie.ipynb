{
 "cells": [
  {
   "cell_type": "markdown",
   "metadata": {},
   "source": [
    "# Game to Movie Video Conversion"
   ]
  },
  {
   "cell_type": "markdown",
   "metadata": {},
   "source": [
    "## Main Imports"
   ]
  },
  {
   "cell_type": "code",
   "execution_count": 6,
   "metadata": {},
   "outputs": [],
   "source": [
    "from os import listdir\n",
    "import cv2\n",
    "import random\n",
    "import natsort\n",
    "import numpy as np\n",
    "from matplotlib import pyplot as plt\n",
    "\n",
    "from keras.preprocessing.image import load_img, img_to_array"
   ]
  },
  {
   "cell_type": "markdown",
   "metadata": {},
   "source": [
    "## Preprocess the video data\n",
    "### Function to read frames from files"
   ]
  },
  {
   "cell_type": "code",
   "execution_count": 31,
   "metadata": {},
   "outputs": [],
   "source": [
    "def read_frames(video_path, save_path, problem_frames, start_frame, end_frame, frame_skip, counter):\n",
    "    \n",
    "    # initialise frame capturing\n",
    "    vidcap = cv2.VideoCapture(video_path)\n",
    "    vidcap.set(1, start_frame)\n",
    "    success, image = vidcap.read()\n",
    "    frame_number = start_frame\n",
    "    \n",
    "    while success and frame_number < end_frame:\n",
    "\n",
    "        # save frames as images, capturing every frame_skip frames\n",
    "        cv2.imwrite(save_path + '%d.jpg' % counter, image)\n",
    "        frame_number += frame_skip\n",
    "        counter += 1\n",
    "        \n",
    "        if frame_number in problem_frames:\n",
    "            original_frame_number = frame_number\n",
    "            random_frame = random.randint(start_frame, end_frame)\n",
    "            vidcap.set(1, random_frame)\n",
    "            frame_number = original_frame_number\n",
    "        else:\n",
    "            vidcap.set(1, frame_number)\n",
    "        success, image = vidcap.read()"
   ]
  },
  {
   "cell_type": "markdown",
   "metadata": {},
   "source": [
    "### Initialise file paths"
   ]
  },
  {
   "cell_type": "code",
   "execution_count": 33,
   "metadata": {},
   "outputs": [],
   "source": [
    "game_load_path = 'data/game/MafiaVideogame.mp4'\n",
    "game_save_path = 'data/game/frames/'\n",
    "game_problem_frames = [6510, 6698, 11774, 11962, 15158, 20798, 22490, 23054, 29070, 34334, 34522, 41290, 41478, 49562, 49750, \n",
    "                       65730, 65918, 66106, 69302, 73438, 73626, 74002, 80018, 80206, 87162, 89230, 92426, 96938, 103518,\n",
    "                      103706, 103894, 116302, 130590, 130778, 138298, 138486, 142058, 147510, 147698, 154654, 154842, 157662,\n",
    "                      166686, 166874, 173642, 173830, 180410, 192066, 192254, 196578, 202406, 202594, 207106, 214626, 221582,\n",
    "                      221770, 228914, 229102]\n",
    "\n",
    "movies_folder = 'data/movie/'\n",
    "movie_save_path = 'data/movie/frames/'\n",
    "\n",
    "# data holding start frame, end frame, frame skip\n",
    "movie_data = {\n",
    "    \"TheGodfather.mp4\": (204, 12204, 30, [1074, 1104, 1134, 1164, 1194]),\n",
    "    \"TheIrishman.mp4\": (75, 23275, 58, [12603, 12661, 12719]),\n",
    "    \"TheSopranos.mp4\": (80, 51280, 128, [9424, 11472, 27984, 28112, 28240, 48848])\n",
    "}"
   ]
  },
  {
   "cell_type": "markdown",
   "metadata": {},
   "source": [
    "### Read frames from game file"
   ]
  },
  {
   "cell_type": "code",
   "execution_count": 20,
   "metadata": {},
   "outputs": [],
   "source": [
    "read_frames(game_load_path, game_save_path, game_problem_frames, 6510, 232110, 188, counter=1)"
   ]
  },
  {
   "cell_type": "markdown",
   "metadata": {},
   "source": [
    "### Read frames from movie files"
   ]
  },
  {
   "cell_type": "code",
   "execution_count": 35,
   "metadata": {},
   "outputs": [],
   "source": [
    "counter = 1\n",
    "for movie_name, frame_data in movie_data.items():\n",
    "    \n",
    "    movie_load_path = movies_folder + movie_name\n",
    "    start_frame, end_frame, frame_skip, movie_problem_frames = frame_data[0], frame_data[1], frame_data[2], frame_data[3]\n",
    "    read_frames(movie_load_path, movie_save_path, movie_problem_frames, start_frame, end_frame, frame_skip, counter)\n",
    "    counter += 400"
   ]
  },
  {
   "cell_type": "markdown",
   "metadata": {},
   "source": [
    "### Set train/validation/test sizes and paths"
   ]
  },
  {
   "cell_type": "code",
   "execution_count": 46,
   "metadata": {},
   "outputs": [
    {
     "name": "stdout",
     "output_type": "stream",
     "text": [
      "384 96 120\n"
     ]
    }
   ],
   "source": [
    "game_train_path = 'data/game_train/'\n",
    "game_val_path = 'data/game_val/'\n",
    "game_test_path = 'data/game_test/'\n",
    "\n",
    "movie_train_path = 'data/movie_train/'\n",
    "movie_val_path = 'data/movie_val/'\n",
    "movie_test_path = 'data/movie_test/'\n",
    "\n",
    "data_length = len(listdir(game_save_path))\n",
    "train_size = int(0.8 * data_length)\n",
    "val_size = int(0.2 * train_size)\n",
    "train_size -= val_size\n",
    "test_size = int(0.2 * data_length)\n",
    "\n",
    "game_data = natsort.natsorted(listdir(game_save_path))\n",
    "movie_data = natsort.natsorted(listdir(movie_save_path))"
   ]
  },
  {
   "cell_type": "markdown",
   "metadata": {},
   "source": [
    "### Function to split the data into folders"
   ]
  },
  {
   "cell_type": "code",
   "execution_count": 47,
   "metadata": {},
   "outputs": [],
   "source": [
    "def split_data(size, data, save_path, new_save_path):\n",
    "    \n",
    "    for i in range(size[0], size[1]):\n",
    "\n",
    "        image_name = data[i]\n",
    "        image_path = save_path + image_name\n",
    "\n",
    "        image = cv2.imread(image_path, cv2.IMREAD_COLOR)\n",
    "        cv2.imwrite(new_save_path + image_name, image)"
   ]
  },
  {
   "cell_type": "markdown",
   "metadata": {},
   "source": [
    "### Splitting the data"
   ]
  },
  {
   "cell_type": "code",
   "execution_count": 50,
   "metadata": {},
   "outputs": [],
   "source": [
    "split_data((0, train_size), game_data, game_save_path, game_train_path)\n",
    "split_data((train_size, train_size + val_size), game_data, game_save_path, game_val_path)\n",
    "split_data((train_size + val_size, data_length), game_data, game_save_path, game_test_path)\n",
    "\n",
    "split_data((0, train_size), movie_data, movie_save_path, movie_train_path)\n",
    "split_data((train_size, train_size + val_size), movie_data, movie_save_path, movie_val_path)\n",
    "split_data((train_size + val_size, data_length), movie_data, movie_save_path, movie_test_path)"
   ]
  },
  {
   "cell_type": "code",
   "execution_count": 2,
   "metadata": {},
   "outputs": [],
   "source": [
    "def load_images(path, size=(256, 256)):\n",
    "    \n",
    "    data_list = list()\n",
    "    \n",
    "    # enumerate filenames in directory, assume all are images\n",
    "    for filename in listdir(path):\n",
    "        \n",
    "        # load and resize the image\n",
    "        pixels = load_img(path + filename, target_size=size)\n",
    "        pixels = img_to_array(pixels)\n",
    "        data_list.append(pixels)\n",
    "    \n",
    "    return np.asarray(data_list)"
   ]
  },
  {
   "cell_type": "code",
   "execution_count": 3,
   "metadata": {},
   "outputs": [
    {
     "name": "stdout",
     "output_type": "stream",
     "text": [
      "Loaded game data: (384, 256, 256, 3)\n",
      "Loaded movie data: (384, 256, 256, 3)\n",
      "Saved dataset\n"
     ]
    }
   ],
   "source": [
    "# load dataset A\n",
    "game_data = load_images('data/game_train/')\n",
    "print('Loaded game data:', game_data.shape)\n",
    "\n",
    "# load dataset B\n",
    "movie_data = load_images('data/movie_train/')\n",
    "print('Loaded movie data:', movie_data.shape)"
   ]
  },
  {
   "cell_type": "code",
   "execution_count": 4,
   "metadata": {},
   "outputs": [],
   "source": [
    "game_data = (game_data - 127.5) / 127.5\n",
    "movie_data = (movie_data - 127.5) / 127.5"
   ]
  },
  {
   "cell_type": "code",
   "execution_count": null,
   "metadata": {},
   "outputs": [],
   "source": []
  }
 ],
 "metadata": {
  "kernelspec": {
   "display_name": "Python 3",
   "language": "python",
   "name": "python3"
  },
  "language_info": {
   "codemirror_mode": {
    "name": "ipython",
    "version": 3
   },
   "file_extension": ".py",
   "mimetype": "text/x-python",
   "name": "python",
   "nbconvert_exporter": "python",
   "pygments_lexer": "ipython3",
   "version": "3.7.6"
  }
 },
 "nbformat": 4,
 "nbformat_minor": 4
}
